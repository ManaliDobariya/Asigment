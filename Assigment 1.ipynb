{
 "cells": [
  {
   "cell_type": "code",
   "execution_count": 11,
   "id": "88e3a8fe",
   "metadata": {},
   "outputs": [
    {
     "name": "stdout",
     "output_type": "stream",
     "text": [
      "Enter the value:3\n",
      "3 is positive\n"
     ]
    }
   ],
   "source": [
    "#Q.1 Write a python program to check if a number is positive, negetive or zero.\n",
    "\n",
    "num = int(input(\"Enter the value:\"))\n",
    "\n",
    "if num == 0:\n",
    "    print(f\"{num} zero\")\n",
    "elif num > 0:\n",
    "    print(f\"{num} is positive\")\n",
    "else:\n",
    "    print(f\"{num} is negetive\")\n"
   ]
  },
  {
   "cell_type": "code",
   "execution_count": 2,
   "id": "644b63a1",
   "metadata": {},
   "outputs": [
    {
     "name": "stdout",
     "output_type": "stream",
     "text": [
      "Enter the number:5\n",
      "5 of factorial 120\n"
     ]
    }
   ],
   "source": [
    "#Q.2 Write a python program to get factorial number of given number.\n",
    "\n",
    "num = int(input(\"Enter the number:\"))\n",
    "\n",
    "fact = 1\n",
    "\n",
    "for i in range(1, num+1):\n",
    "    fact = fact*i\n",
    "print(f\"{num} of factorial {fact}\")\n"
   ]
  },
  {
   "cell_type": "code",
   "execution_count": 12,
   "id": "48440215",
   "metadata": {},
   "outputs": [
    {
     "name": "stdout",
     "output_type": "stream",
     "text": [
      "Enter the number:5\n",
      "0 1 1 2 3 "
     ]
    }
   ],
   "source": [
    "#Q.3 Write a program to get fibbonacci number to given number.\n",
    "\n",
    "num = int(input(\"Enter the number:\")) \n",
    "\n",
    "x=0\n",
    "y=1\n",
    "z=0\n",
    "for i in range(1,num+1):\n",
    "    print(z, end=\" \")\n",
    "    x=y\n",
    "    y=z\n",
    "    z=x+y\n",
    "    "
   ]
  },
  {
   "cell_type": "code",
   "execution_count": null,
   "id": "f93e1742",
   "metadata": {},
   "outputs": [],
   "source": [
    "#Q.4 How memory is managed in python?\n",
    "\n",
    "Answer: Python has a private heap that stores our program’s objects and data structures. \n",
    "        Python memory manager takes care of the bulk of the memory management work and allows us to concentrate on our code.\n",
    "        Types of memory allocation:\n",
    "        1]Static memory\n",
    "        2]Dynamic memory"
   ]
  },
  {
   "cell_type": "code",
   "execution_count": null,
   "id": "0d2bfa55",
   "metadata": {},
   "outputs": [],
   "source": [
    "#Q.5 What is the purpose continue statement in python?\n",
    "Answer: Python Continue statement is a loop control statement that forces to execute the next iteration of the loop while skipping the rest of the code inside the loop for the current iteration only, \n",
    "        i.e. when the continue statement is executed in the loop, the code inside the loop following the continue statement will be skipped for the current iteration and the next iteration of the loop will begin.\n",
    "\n",
    "Python continue Statement Syntax:\n",
    "while True:\n",
    "    ...\n",
    "    if x == 10:\n",
    "        continue\n",
    "    print(x)"
   ]
  },
  {
   "cell_type": "code",
   "execution_count": 10,
   "id": "2b0f44bc",
   "metadata": {},
   "outputs": [
    {
     "name": "stdout",
     "output_type": "stream",
     "text": [
      "---------------------Using temp variable-----------------------\n",
      "\n",
      "Enter the value of x: 5\n",
      "Enter the value of y: 6\n",
      "\n",
      "After swapping value of x: 6\n",
      "After swapping value of y: 5\n",
      "\n",
      "---------------------Without temp variable-----------------------\n",
      "\n",
      "After swapping value of x: 5\n",
      "After swapping value of x: 6\n"
     ]
    }
   ],
   "source": [
    "#Q.6 Write python program that swap two number with temp variable and without temp variable.\n",
    "print(\"---------------------Using temp variable-----------------------\")\n",
    "\n",
    "x = int(input(\"\\nEnter the value of x: \"))\n",
    "y = int(input(\"Enter the value of y: \"))\n",
    "\n",
    "temp = x\n",
    "x = y\n",
    "y = temp\n",
    "\n",
    "print(f\"\\nAfter swapping value of x: {x}\")\n",
    "print(f\"After swapping value of y: {y}\")\n",
    "\n",
    "print(\"\\n---------------------Without temp variable-----------------------\")\n",
    "x = x+y\n",
    "y = x-y\n",
    "x = x-y\n",
    "\n",
    "print(f\"\\nAfter swapping value of x: {x}\")\n",
    "print(f\"After swapping value of x: {y}\")\n"
   ]
  },
  {
   "cell_type": "code",
   "execution_count": 14,
   "id": "50902081",
   "metadata": {},
   "outputs": [
    {
     "name": "stdout",
     "output_type": "stream",
     "text": [
      "Enter the number:7\n",
      "7 is odd number\n"
     ]
    }
   ],
   "source": [
    "#Q.7 Write a Python program to find whether a given number is even or odd, print out an appropriate message to the user.\n",
    "\n",
    "num = int(input(\"Enter the number:\"))\n",
    "\n",
    "if num%2==0:          #even\n",
    "    print(f\"{num} is even number\")\n",
    "else:                #odd\n",
    "    print(f\"{num} is odd number\")"
   ]
  },
  {
   "cell_type": "code",
   "execution_count": 5,
   "id": "702bdb4a",
   "metadata": {},
   "outputs": [
    {
     "name": "stdout",
     "output_type": "stream",
     "text": [
      "Enter the letter: k\n",
      "k is not vowel\n"
     ]
    }
   ],
   "source": [
    "#Q.8 Write a Python program to test whether a passed letter is a vowel or not.\n",
    "\n",
    "str = input(\"Enter the letter: \")\n",
    "vowel = ['a', 'e', 'i', 'o', 'u', 'A', 'E', 'I', 'O', 'U']\n",
    "\n",
    "if str == vowel:\n",
    "    print (f\"{str} is a vowel\")\n",
    "else:\n",
    "    print (f\"{str} is not vowel\")    "
   ]
  },
  {
   "cell_type": "code",
   "execution_count": 12,
   "id": "0d477447",
   "metadata": {},
   "outputs": [
    {
     "name": "stdout",
     "output_type": "stream",
     "text": [
      "Enter value of x: 4\n",
      "Enter value of y: 5\n",
      "Enter value of z: 6\n",
      "Sum of three value = 15\n"
     ]
    }
   ],
   "source": [
    "#Q.9 Write a Python program to sum of three given integers. However, if two values are equal sum will be zero\n",
    "\n",
    "x = int(input(\"Enter value of x: \"))\n",
    "y = int(input(\"Enter value of y: \"))\n",
    "z = int(input(\"Enter value of z: \"))\n",
    "\n",
    "sum = x+y+z\n",
    "if x==y or x==z or y==z:\n",
    "    print(\"Sum will be zero\")\n",
    "else:\n",
    "    print(f\"Sum of three value = {sum}\")"
   ]
  },
  {
   "cell_type": "code",
   "execution_count": 18,
   "id": "4312614e",
   "metadata": {},
   "outputs": [
    {
     "name": "stdout",
     "output_type": "stream",
     "text": [
      "Enter value of x: 10\n",
      "Enter value of y: 5\n",
      "True\n"
     ]
    }
   ],
   "source": [
    "#Q.10 Write a Python program that will return true if the two given integer values are equal or their sum or difference is 5.\n",
    "\n",
    "x = int(input(\"Enter value of x: \"))\n",
    "y = int(input(\"Enter value of y: \"))\n",
    "\n",
    "if x==y or (x+y)==5 or (x-y)==5:\n",
    "    print(True)\n",
    "else:\n",
    "    print(False)"
   ]
  },
  {
   "cell_type": "code",
   "execution_count": 20,
   "id": "7320beaf",
   "metadata": {},
   "outputs": [
    {
     "name": "stdout",
     "output_type": "stream",
     "text": [
      "Enter the interger number:10\n",
      "55.0\n"
     ]
    }
   ],
   "source": [
    "#Q.11 Write a python program to sum of the first n positive integers.\n",
    "\n",
    "num = int(input(\"Enter the interger number:\"))\n",
    "ans = num*(num+1)/2\n",
    "print(ans)"
   ]
  },
  {
   "cell_type": "code",
   "execution_count": 31,
   "id": "6d8112b9",
   "metadata": {},
   "outputs": [
    {
     "name": "stdout",
     "output_type": "stream",
     "text": [
      "Enter the string: gghfhj\n",
      "Length of string: 6\n"
     ]
    }
   ],
   "source": [
    "#Q.12 Write a Python program to calculate the length of a string.\n",
    "str1 = input(\"Enter the string: \")\n",
    "print(f\"Length of string:\",len(str1))"
   ]
  },
  {
   "cell_type": "code",
   "execution_count": 1,
   "id": "5e8d6bb8",
   "metadata": {},
   "outputs": [
    {
     "name": "stdout",
     "output_type": "stream",
     "text": [
      "{'M': 1, 'a': 2, 'n': 1, 'l': 1, 'i': 1}\n"
     ]
    }
   ],
   "source": [
    "#Q.13 Write a Python program to count the number of characters (character frequency) in a string\n",
    "\n",
    "str1 = \"Manali\"\n",
    "d = {}\n",
    "for i in str1:\n",
    "    if i in d:\n",
    "        d[i]+=1\n",
    "    else:\n",
    "        d[i]=1\n",
    "print(d)\n",
    "        "
   ]
  },
  {
   "cell_type": "code",
   "execution_count": 4,
   "id": "b93939ec",
   "metadata": {},
   "outputs": [],
   "source": [
    "#Q.14 What are negative indexes and why are they used?\n",
    "Answer: Index are used in arrays in all programming languages.\n",
    "        we can access the elements of an array by going through their indexs.\n",
    "        but no programming language allows us to use negative index value such as -4.\n",
    "        python programming language supports negative indexing of arrays, which is not available in arrays in most other programming languages.\n",
    "        this means that the negative index value of -1 gives the last element and -2 gives the second last element of an array.\n",
    "        the negative indexing starts from where the array ends.this means that the last element of the array is the first element in the negative indexing which is -1.\n",
    "\n"
   ]
  },
  {
   "cell_type": "code",
   "execution_count": 5,
   "id": "46c72ae2",
   "metadata": {},
   "outputs": [
    {
     "name": "stdout",
     "output_type": "stream",
     "text": [
      "Number of substring occurrences: 2\n"
     ]
    }
   ],
   "source": [
    "#Q.15 Write a Python program to count occurrences of a substring in a string.\n",
    "\n",
    "str1 = 'Helllo hii how Helllo'\n",
    "result = str1.count(\"Helllo\")\n",
    "print(\"Number of substring occurrences:\", result)\n"
   ]
  },
  {
   "cell_type": "code",
   "execution_count": 3,
   "id": "2596738e",
   "metadata": {},
   "outputs": [
    {
     "name": "stdout",
     "output_type": "stream",
     "text": [
      "Enter sentence:Manali Dobariya and abhishek Dobariya\n",
      "{'Manali': 1, 'Dobariya': 2, 'and': 1, 'abhishek': 1}\n"
     ]
    }
   ],
   "source": [
    "#Q.16 Write a Python program to count the occurrences of each word in a given sentence.\n",
    "str1=input(\"Enter sentence:\")\n",
    "word = str1.split()\n",
    "search_str={}\n",
    "for i in word:\n",
    "    if i in search_str:\n",
    "        search_str[i]+=1\n",
    "    else:\n",
    "        search_str[i]=1\n",
    "print(search_str)\n"
   ]
  },
  {
   "cell_type": "code",
   "execution_count": 4,
   "id": "7b0bffed",
   "metadata": {},
   "outputs": [
    {
     "name": "stdout",
     "output_type": "stream",
     "text": [
      "Enter First string: Manali\n",
      "Enter Second string: Dobariya\n",
      "Separeted by space: Manali Dobariya\n",
      "Swap 1st two character: aMnali oDbariya\n"
     ]
    }
   ],
   "source": [
    "#Q.17 Write a Python program to get a single string from two given strings,separated by a space and swap the first two characters of each string.\n",
    "a = input(\"Enter First string: \")\n",
    "b = input(\"Enter Second string: \")\n",
    "\n",
    "print(f\"Separeted by space:\",a+\" \"+b)\n",
    "a1 = a[1:2]+a[0:1]+a[2:]\n",
    "b1 = b[1:2]+b[0:1]+b[2:]\n",
    "print(\"Swap 1st two character:\",a1,b1)"
   ]
  },
  {
   "cell_type": "code",
   "execution_count": 8,
   "id": "eab83be8",
   "metadata": {},
   "outputs": [
    {
     "name": "stdout",
     "output_type": "stream",
     "text": [
      "Enter the string: Singing\n",
      "Singingly\n"
     ]
    }
   ],
   "source": [
    "#Q.18 Write a Python program to add 'ing' at the end of a given string (length should be at least 3). \n",
    "#     If the given string already ends with 'ing' then add 'ly' instead if the string length of the given string is less than 3, leave it unchanged.\n",
    "\n",
    "str1 = input(\"Enter the string: \")\n",
    "if len(str1)>=3:\n",
    "    if str1.endswith(\"ing\"):\n",
    "        str1+=\"ly\"\n",
    "    else:\n",
    "        str1+=\"ing\"\n",
    "print(str1)"
   ]
  },
  {
   "cell_type": "code",
   "execution_count": 3,
   "id": "4f08ac55",
   "metadata": {},
   "outputs": [
    {
     "name": "stdout",
     "output_type": "stream",
     "text": [
      "Enter the string: manali is not a poor person\n",
      "manali is goood person\n"
     ]
    }
   ],
   "source": [
    "#Q.19 Write a Python program to find the first appearance of the substring'not' and 'poor' from a given string, \n",
    "#     if 'not' follows the 'poor', replace the whole 'not'...'poor' substring with 'good'. Return the resulting string.\n",
    "\n",
    "str1 = input(\"Enter the string: \")\n",
    "a = str1.find(\"not\")                             #find not in enter string\n",
    "b = str1.find(\"poor\")                            #find poor in enter string\n",
    "\n",
    "if a<b:\n",
    "    str2 = str1.replace(str1[a:b+4],\"good\")      #replace not & poor with good\n",
    "    print(str2)\n",
    "else:\n",
    "    print(str1)"
   ]
  },
  {
   "cell_type": "code",
   "execution_count": 19,
   "id": "790e0dbe",
   "metadata": {},
   "outputs": [
    {
     "name": "stdout",
     "output_type": "stream",
     "text": [
      "Longest word:  Byeeee\n",
      "\n",
      "Length of the longest word:  6\n"
     ]
    }
   ],
   "source": [
    "#Q.20 Write a Python function that takes a list of words and returns the length of the longest one.\n",
    "\n",
    "def find_long_word(words_list):\n",
    "    word_len = []\n",
    "    for n in words_list:\n",
    "        word_len.append((len(n), n))\n",
    "    word_len.sort()\n",
    "    return word_len[-1][0], word_len[-1][1]\n",
    "result = find_long_word([\"hello\", \"hii\", \"Byeeee\"])\n",
    "print(\"Longest word: \",result[1])\n",
    "print(\"\\nLength of the longest word: \",result[0])\n"
   ]
  },
  {
   "cell_type": "code",
   "execution_count": 16,
   "id": "9faa8cab",
   "metadata": {},
   "outputs": [
    {
     "name": "stdout",
     "output_type": "stream",
     "text": [
      "edilanam\n"
     ]
    }
   ],
   "source": [
    "#Q.21 Write a Python function to reverses a string if its length is a multiple of 4.\n",
    "def reverse_string(str1):\n",
    "    if len(str1) % 4 == 0:\n",
    "         return ''.join(reversed(str1))        \n",
    "    return str1\n",
    "\n",
    "print(reverse_string('manalide'))"
   ]
  },
  {
   "cell_type": "code",
   "execution_count": 10,
   "id": "419dccf6",
   "metadata": {},
   "outputs": [
    {
     "name": "stdout",
     "output_type": "stream",
     "text": [
      "Enter the string: manalidobariya\n",
      "maya\n"
     ]
    }
   ],
   "source": [
    "#Q.22 Write a Python program to get a string made of the first 2 and the last2 chars from a given a string. \n",
    "#     If the string length is less than 2, return instead of the empty string.\n",
    "\n",
    "str1 = input(\"Enter the string: \")\n",
    "if len(str1)<=2:                         #check length of string\n",
    "    print(\"String is empty.\")\n",
    "else:\n",
    "    str2 = str1[:2]+str1[-2:]            #1st and last 2 charcter\n",
    "    print(str2)\n",
    "    "
   ]
  },
  {
   "cell_type": "code",
   "execution_count": 26,
   "id": "83bb6bc7",
   "metadata": {},
   "outputs": [
    {
     "name": "stdout",
     "output_type": "stream",
     "text": [
      "man is ali\n"
     ]
    }
   ],
   "source": [
    "#Q.23 Write a Python function to insert a string in the middle of a string.\n",
    "def add_middle_string(str1,str2):\n",
    "    x = (len(str1)) \n",
    "    second = x//2\n",
    "    add = str1[:second]+\" \"+str2+\" \"+str1[second:]\n",
    "    return add\n",
    "print(add_middle_string(\"manali\", \"is\"))"
   ]
  },
  {
   "cell_type": "code",
   "execution_count": 9,
   "id": "3bbbb691",
   "metadata": {},
   "outputs": [
    {
     "name": "stdout",
     "output_type": "stream",
     "text": [
      "Enter user ID: 1\n",
      "Enter name: manali\n",
      "Enter some words: dobariya\n",
      "User ID: 1\n",
      "Name: manali\n",
      "Password: :ry!\"bDzdBohiaSa\n",
      "\n"
     ]
    }
   ],
   "source": [
    "#Q.24 Problem Statement : Password Generator\n",
    "\n",
    "import random\n",
    "import string\n",
    "\n",
    "class user:\n",
    "    def __init__(self,user_id,name,password):\n",
    "        self.user_id =user_id\n",
    "        self.name = name\n",
    "        self.password = password\n",
    "        \n",
    "    def __str__(self):\n",
    "        return f\"User ID: {self.user_id}\\nName: {self.name}\\nPassword: {self.password}\\n\"\n",
    "    \n",
    "def generate_password(user_input):\n",
    "    words = user_input.split()\n",
    "    random.shuffle(words)\n",
    "    password = ''.join(random.choice(string.ascii_uppercase) for i in range(2))\n",
    "    password += ''.join(random.choice(string.digits + string.ascii_lowercase + string.punctuation) for i in range(6))\n",
    "    for word in words:\n",
    "        if len(password) >= 10:\n",
    "            break\n",
    "        if len(word) >= 3:\n",
    "            password += word.capitalize()\n",
    "    password = ''.join(random.sample(password, len(password)))\n",
    "    return password\n",
    "\n",
    "if __name__ == \"__main__\":\n",
    "    try:\n",
    "        user_id = int(input(\"Enter user ID: \"))\n",
    "        name = input(\"Enter name: \")\n",
    "        user_input = input(\"Enter some words: \")\n",
    "        password = generate_password(user_input)\n",
    "        user = user(user_id, name, password)\n",
    "        print(user)\n",
    "    except Exception as e:\n",
    "        print(f\"Error: {e}\")\n",
    "      "
   ]
  }
 ],
 "metadata": {
  "kernelspec": {
   "display_name": "Python 3 (ipykernel)",
   "language": "python",
   "name": "python3"
  },
  "language_info": {
   "codemirror_mode": {
    "name": "ipython",
    "version": 3
   },
   "file_extension": ".py",
   "mimetype": "text/x-python",
   "name": "python",
   "nbconvert_exporter": "python",
   "pygments_lexer": "ipython3",
   "version": "3.10.9"
  }
 },
 "nbformat": 4,
 "nbformat_minor": 5
}
